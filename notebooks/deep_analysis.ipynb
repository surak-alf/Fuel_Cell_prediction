{
 "cells": [
  {
   "cell_type": "code",
   "execution_count": 1,
   "id": "00d634c7",
   "metadata": {},
   "outputs": [
    {
     "name": "stdout",
     "output_type": "stream",
     "text": [
      "Loading data...\n",
      "Data shape: (2000, 3)\n",
      "\n",
      "First 5 rows:\n"
     ]
    },
    {
     "data": {
      "text/html": [
       "<div>\n",
       "<style scoped>\n",
       "    .dataframe tbody tr th:only-of-type {\n",
       "        vertical-align: middle;\n",
       "    }\n",
       "\n",
       "    .dataframe tbody tr th {\n",
       "        vertical-align: top;\n",
       "    }\n",
       "\n",
       "    .dataframe thead th {\n",
       "        text-align: right;\n",
       "    }\n",
       "</style>\n",
       "<table border=\"1\" class=\"dataframe\">\n",
       "  <thead>\n",
       "    <tr style=\"text-align: right;\">\n",
       "      <th></th>\n",
       "      <th>Current_Density_A_cm2</th>\n",
       "      <th>Temperature_K</th>\n",
       "      <th>Cell_Voltage_V</th>\n",
       "    </tr>\n",
       "  </thead>\n",
       "  <tbody>\n",
       "    <tr>\n",
       "      <th>0</th>\n",
       "      <td>0.561810</td>\n",
       "      <td>318.702341</td>\n",
       "      <td>1.285157</td>\n",
       "    </tr>\n",
       "    <tr>\n",
       "      <th>1</th>\n",
       "      <td>1.426071</td>\n",
       "      <td>317.818728</td>\n",
       "      <td>0.449132</td>\n",
       "    </tr>\n",
       "    <tr>\n",
       "      <th>2</th>\n",
       "      <td>1.097991</td>\n",
       "      <td>357.375275</td>\n",
       "      <td>0.947224</td>\n",
       "    </tr>\n",
       "    <tr>\n",
       "      <th>3</th>\n",
       "      <td>0.897988</td>\n",
       "      <td>317.972772</td>\n",
       "      <td>0.912518</td>\n",
       "    </tr>\n",
       "    <tr>\n",
       "      <th>4</th>\n",
       "      <td>0.234028</td>\n",
       "      <td>319.316984</td>\n",
       "      <td>1.782595</td>\n",
       "    </tr>\n",
       "  </tbody>\n",
       "</table>\n",
       "</div>"
      ],
      "text/plain": [
       "   Current_Density_A_cm2  Temperature_K  Cell_Voltage_V\n",
       "0               0.561810     318.702341        1.285157\n",
       "1               1.426071     317.818728        0.449132\n",
       "2               1.097991     357.375275        0.947224\n",
       "3               0.897988     317.972772        0.912518\n",
       "4               0.234028     319.316984        1.782595"
      ]
     },
     "metadata": {},
     "output_type": "display_data"
    },
    {
     "name": "stdout",
     "output_type": "stream",
     "text": [
      "\n",
      "Loading trained models...\n",
      "Data and models loaded successfully!\n"
     ]
    }
   ],
   "source": [
    "# Fuel Cell Performance Prediction - Deep Analysis\n",
    "# This notebook provides extended analysis of the fuel cell performance prediction project\n",
    "\n",
    "# Import required libraries\n",
    "import numpy as np\n",
    "import pandas as pd\n",
    "import matplotlib.pyplot as plt\n",
    "import seaborn as sns\n",
    "from sklearn.metrics import mean_squared_error, r2_score, mean_absolute_error\n",
    "import joblib\n",
    "from sklearn.inspection import partial_dependence\n",
    "import scipy.stats as stats\n",
    "\n",
    "# Set plotting style\n",
    "plt.style.use('default')\n",
    "sns.set_palette(\"deep\")\n",
    "%matplotlib inline\n",
    "\n",
    "# Load the generated data\n",
    "print(\"Loading data...\")\n",
    "data = pd.read_csv('../data/synthetic_data.csv')\n",
    "print(f\"Data shape: {data.shape}\")\n",
    "print(\"\\nFirst 5 rows:\")\n",
    "display(data.head())\n",
    "\n",
    "# Load trained models\n",
    "print(\"\\nLoading trained models...\")\n",
    "lr_model = joblib.load('../models/trained_linear_model.pkl')\n",
    "nn_model = joblib.load('../models/trained_nn_model.pkl')\n",
    "\n",
    "# Load the test data (we'll need to regenerate this to match training)\n",
    "from sklearn.model_selection import train_test_split\n",
    "from sklearn.preprocessing import StandardScaler\n",
    "\n",
    "# Prepare data as was done in training\n",
    "X = data[['Current_Density_A_cm2', 'Temperature_K']]\n",
    "y = data['Cell_Voltage_V']\n",
    "\n",
    "X_train, X_test, y_train, y_test = train_test_split(\n",
    "    X, y, test_size=0.2, random_state=42\n",
    ")\n",
    "\n",
    "scaler = StandardScaler()\n",
    "X_train_scaled = scaler.fit_transform(X_train)\n",
    "X_test_scaled = scaler.transform(X_test)\n",
    "\n",
    "# Make predictions\n",
    "lr_pred = lr_model.predict(X_test)\n",
    "nn_pred = nn_model.predict(X_test_scaled)\n",
    "\n",
    "print(\"Data and models loaded successfully!\")"
   ]
  },
  {
   "cell_type": "code",
   "execution_count": null,
   "id": "efd6913c",
   "metadata": {},
   "outputs": [],
   "source": []
  },
  {
   "cell_type": "code",
   "execution_count": null,
   "id": "80263c2b",
   "metadata": {},
   "outputs": [],
   "source": []
  },
  {
   "cell_type": "code",
   "execution_count": null,
   "id": "e51e9544",
   "metadata": {},
   "outputs": [],
   "source": []
  },
  {
   "cell_type": "code",
   "execution_count": null,
   "id": "c4c03654",
   "metadata": {},
   "outputs": [],
   "source": []
  },
  {
   "cell_type": "code",
   "execution_count": null,
   "id": "2a8f2b09",
   "metadata": {},
   "outputs": [],
   "source": []
  }
 ],
 "metadata": {
  "kernelspec": {
   "display_name": "venv",
   "language": "python",
   "name": "python3"
  },
  "language_info": {
   "codemirror_mode": {
    "name": "ipython",
    "version": 3
   },
   "file_extension": ".py",
   "mimetype": "text/x-python",
   "name": "python",
   "nbconvert_exporter": "python",
   "pygments_lexer": "ipython3",
   "version": "3.12.4"
  }
 },
 "nbformat": 4,
 "nbformat_minor": 5
}
